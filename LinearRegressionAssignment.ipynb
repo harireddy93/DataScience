{
  "nbformat": 4,
  "nbformat_minor": 0,
  "metadata": {
    "kernelspec": {
      "display_name": "Python 3",
      "language": "python",
      "name": "python3"
    },
    "language_info": {
      "codemirror_mode": {
        "name": "ipython",
        "version": 3
      },
      "file_extension": ".py",
      "mimetype": "text/x-python",
      "name": "python",
      "nbconvert_exporter": "python",
      "pygments_lexer": "ipython3",
      "version": "3.7.0"
    },
    "colab": {
      "name": "LinearRegressionAssignmentQuestions-1543832506191.ipynb",
      "provenance": [],
      "include_colab_link": true
    }
  },
  "cells": [
    {
      "cell_type": "markdown",
      "metadata": {
        "id": "view-in-github",
        "colab_type": "text"
      },
      "source": [
        "<a href=\"https://colab.research.google.com/github/harireddy93/DataScience/blob/master/LinearRegressionAssignment.ipynb\" target=\"_parent\"><img src=\"https://colab.research.google.com/assets/colab-badge.svg\" alt=\"Open In Colab\"/></a>"
      ]
    },
    {
      "cell_type": "markdown",
      "metadata": {
        "id": "CFYg7JscRw0l",
        "colab_type": "text"
      },
      "source": [
        "<img src=\"https://github.com/insaid2018/Term-1/blob/master/Images/INSAID_Full%20Logo.png?raw=true\" width=\"240\" height=\"360\" />\n",
        "\n",
        "# ASSIGNMENT\n",
        "\n",
        "###  This is a cars dataset having 156 observation and 16 different variables. You have to create a linear regression model using the provided predictor variables for the prediction of sales value of cars.\n",
        "\n",
        "#### Note: Please run your code step by step as provided in the sheet or else you may face challenges with the code."
      ]
    },
    {
      "cell_type": "markdown",
      "metadata": {
        "id": "IeDpk2x2Rw0o",
        "colab_type": "text"
      },
      "source": [
        "### Import the dataset."
      ]
    },
    {
      "cell_type": "code",
      "metadata": {
        "scrolled": true,
        "id": "vzwgM1oQRw0q",
        "colab_type": "code",
        "colab": {
          "base_uri": "https://localhost:8080/",
          "height": 224
        },
        "outputId": "d0e28f41-1059-42fe-bbe3-93bc6aeaa1aa"
      },
      "source": [
        "import pandas as pd\n",
        "car = pd.read_csv(\"https://raw.githubusercontent.com/insaid2018/Term-2/master/Data/car_sales.csv\")\n",
        "car.head()"
      ],
      "execution_count": 1,
      "outputs": [
        {
          "output_type": "execute_result",
          "data": {
            "text/html": [
              "<div>\n",
              "<style scoped>\n",
              "    .dataframe tbody tr th:only-of-type {\n",
              "        vertical-align: middle;\n",
              "    }\n",
              "\n",
              "    .dataframe tbody tr th {\n",
              "        vertical-align: top;\n",
              "    }\n",
              "\n",
              "    .dataframe thead th {\n",
              "        text-align: right;\n",
              "    }\n",
              "</style>\n",
              "<table border=\"1\" class=\"dataframe\">\n",
              "  <thead>\n",
              "    <tr style=\"text-align: right;\">\n",
              "      <th></th>\n",
              "      <th>Manufacturer</th>\n",
              "      <th>Model</th>\n",
              "      <th>Sales_in_thousands</th>\n",
              "      <th>_year_resale_value</th>\n",
              "      <th>Vehicle_type</th>\n",
              "      <th>Price_in_thousands</th>\n",
              "      <th>Engine_size</th>\n",
              "      <th>Horsepower</th>\n",
              "      <th>Wheelbase</th>\n",
              "      <th>Width</th>\n",
              "      <th>Length</th>\n",
              "      <th>Curb_weight</th>\n",
              "      <th>Fuel_capacity</th>\n",
              "      <th>Fuel_efficiency</th>\n",
              "      <th>Latest_Launch</th>\n",
              "      <th>Power_perf_factor</th>\n",
              "    </tr>\n",
              "  </thead>\n",
              "  <tbody>\n",
              "    <tr>\n",
              "      <th>0</th>\n",
              "      <td>Acura</td>\n",
              "      <td>Integra</td>\n",
              "      <td>16.919</td>\n",
              "      <td>16.360</td>\n",
              "      <td>Passenger</td>\n",
              "      <td>21.50</td>\n",
              "      <td>1.8</td>\n",
              "      <td>140</td>\n",
              "      <td>101.2</td>\n",
              "      <td>67.3</td>\n",
              "      <td>172.4</td>\n",
              "      <td>2.639</td>\n",
              "      <td>13.2</td>\n",
              "      <td>28</td>\n",
              "      <td>2/2/2012</td>\n",
              "      <td>58.280150</td>\n",
              "    </tr>\n",
              "    <tr>\n",
              "      <th>1</th>\n",
              "      <td>Acura</td>\n",
              "      <td>TL</td>\n",
              "      <td>39.384</td>\n",
              "      <td>19.875</td>\n",
              "      <td>Passenger</td>\n",
              "      <td>28.40</td>\n",
              "      <td>3.2</td>\n",
              "      <td>225</td>\n",
              "      <td>108.1</td>\n",
              "      <td>70.3</td>\n",
              "      <td>192.9</td>\n",
              "      <td>3.517</td>\n",
              "      <td>17.2</td>\n",
              "      <td>25</td>\n",
              "      <td>6/3/2011</td>\n",
              "      <td>91.370778</td>\n",
              "    </tr>\n",
              "    <tr>\n",
              "      <th>2</th>\n",
              "      <td>Acura</td>\n",
              "      <td>CL</td>\n",
              "      <td>14.114</td>\n",
              "      <td>18.225</td>\n",
              "      <td>Passenger</td>\n",
              "      <td>29.00</td>\n",
              "      <td>3.2</td>\n",
              "      <td>225</td>\n",
              "      <td>106.9</td>\n",
              "      <td>70.6</td>\n",
              "      <td>192.0</td>\n",
              "      <td>3.470</td>\n",
              "      <td>17.2</td>\n",
              "      <td>26</td>\n",
              "      <td>1/4/2012</td>\n",
              "      <td>90.345000</td>\n",
              "    </tr>\n",
              "    <tr>\n",
              "      <th>3</th>\n",
              "      <td>Acura</td>\n",
              "      <td>RL</td>\n",
              "      <td>8.588</td>\n",
              "      <td>29.725</td>\n",
              "      <td>Passenger</td>\n",
              "      <td>42.00</td>\n",
              "      <td>3.5</td>\n",
              "      <td>210</td>\n",
              "      <td>114.6</td>\n",
              "      <td>71.4</td>\n",
              "      <td>196.6</td>\n",
              "      <td>3.850</td>\n",
              "      <td>18.0</td>\n",
              "      <td>22</td>\n",
              "      <td>3/10/2011</td>\n",
              "      <td>91.389779</td>\n",
              "    </tr>\n",
              "    <tr>\n",
              "      <th>4</th>\n",
              "      <td>Audi</td>\n",
              "      <td>A4</td>\n",
              "      <td>20.397</td>\n",
              "      <td>22.255</td>\n",
              "      <td>Passenger</td>\n",
              "      <td>23.99</td>\n",
              "      <td>1.8</td>\n",
              "      <td>150</td>\n",
              "      <td>102.6</td>\n",
              "      <td>68.2</td>\n",
              "      <td>178.0</td>\n",
              "      <td>2.998</td>\n",
              "      <td>16.4</td>\n",
              "      <td>27</td>\n",
              "      <td>10/8/2011</td>\n",
              "      <td>62.777639</td>\n",
              "    </tr>\n",
              "  </tbody>\n",
              "</table>\n",
              "</div>"
            ],
            "text/plain": [
              "  Manufacturer    Model  ...  Latest_Launch  Power_perf_factor\n",
              "0        Acura  Integra  ...       2/2/2012          58.280150\n",
              "1        Acura       TL  ...       6/3/2011          91.370778\n",
              "2        Acura       CL  ...       1/4/2012          90.345000\n",
              "3        Acura       RL  ...      3/10/2011          91.389779\n",
              "4         Audi       A4  ...      10/8/2011          62.777639\n",
              "\n",
              "[5 rows x 16 columns]"
            ]
          },
          "metadata": {
            "tags": []
          },
          "execution_count": 1
        }
      ]
    },
    {
      "cell_type": "markdown",
      "metadata": {
        "id": "kXMqZELURw0x",
        "colab_type": "text"
      },
      "source": [
        "### Check the shape of the dataset."
      ]
    },
    {
      "cell_type": "code",
      "metadata": {
        "id": "PW3X9JHjRw0y",
        "colab_type": "code",
        "colab": {
          "base_uri": "https://localhost:8080/",
          "height": 34
        },
        "outputId": "d2642287-9ccb-45f0-c2f4-de1f15fc0189"
      },
      "source": [
        "def lr():\n",
        "    return car.shape \n",
        "lr()"
      ],
      "execution_count": 2,
      "outputs": [
        {
          "output_type": "execute_result",
          "data": {
            "text/plain": [
              "(156, 16)"
            ]
          },
          "metadata": {
            "tags": []
          },
          "execution_count": 2
        }
      ]
    },
    {
      "cell_type": "markdown",
      "metadata": {
        "id": "JwnrOBxCRw01",
        "colab_type": "text"
      },
      "source": [
        "### Check the descriptive stats of the dataset."
      ]
    },
    {
      "cell_type": "code",
      "metadata": {
        "id": "1U1TIp-0Rw02",
        "colab_type": "code",
        "colab": {
          "base_uri": "https://localhost:8080/",
          "height": 297
        },
        "outputId": "b1070d5a-5e1d-4df2-dea8-992d70a00b41"
      },
      "source": [
        "def lr():\n",
        "    return car.describe()\n",
        "lr()"
      ],
      "execution_count": 3,
      "outputs": [
        {
          "output_type": "execute_result",
          "data": {
            "text/html": [
              "<div>\n",
              "<style scoped>\n",
              "    .dataframe tbody tr th:only-of-type {\n",
              "        vertical-align: middle;\n",
              "    }\n",
              "\n",
              "    .dataframe tbody tr th {\n",
              "        vertical-align: top;\n",
              "    }\n",
              "\n",
              "    .dataframe thead th {\n",
              "        text-align: right;\n",
              "    }\n",
              "</style>\n",
              "<table border=\"1\" class=\"dataframe\">\n",
              "  <thead>\n",
              "    <tr style=\"text-align: right;\">\n",
              "      <th></th>\n",
              "      <th>Sales_in_thousands</th>\n",
              "      <th>_year_resale_value</th>\n",
              "      <th>Price_in_thousands</th>\n",
              "      <th>Engine_size</th>\n",
              "      <th>Horsepower</th>\n",
              "      <th>Wheelbase</th>\n",
              "      <th>Width</th>\n",
              "      <th>Length</th>\n",
              "      <th>Curb_weight</th>\n",
              "      <th>Fuel_capacity</th>\n",
              "      <th>Fuel_efficiency</th>\n",
              "      <th>Power_perf_factor</th>\n",
              "    </tr>\n",
              "  </thead>\n",
              "  <tbody>\n",
              "    <tr>\n",
              "      <th>count</th>\n",
              "      <td>151.000000</td>\n",
              "      <td>156.000000</td>\n",
              "      <td>156.000000</td>\n",
              "      <td>156.000000</td>\n",
              "      <td>156.000000</td>\n",
              "      <td>156.000000</td>\n",
              "      <td>156.000000</td>\n",
              "      <td>156.000000</td>\n",
              "      <td>156.000000</td>\n",
              "      <td>156.000000</td>\n",
              "      <td>156.000000</td>\n",
              "      <td>156.000000</td>\n",
              "    </tr>\n",
              "    <tr>\n",
              "      <th>mean</th>\n",
              "      <td>52.051742</td>\n",
              "      <td>18.063571</td>\n",
              "      <td>27.401071</td>\n",
              "      <td>3.060897</td>\n",
              "      <td>185.948718</td>\n",
              "      <td>107.487179</td>\n",
              "      <td>71.150000</td>\n",
              "      <td>187.343590</td>\n",
              "      <td>3.380462</td>\n",
              "      <td>17.951923</td>\n",
              "      <td>23.833333</td>\n",
              "      <td>77.128857</td>\n",
              "    </tr>\n",
              "    <tr>\n",
              "      <th>std</th>\n",
              "      <td>68.907116</td>\n",
              "      <td>10.076941</td>\n",
              "      <td>14.305863</td>\n",
              "      <td>1.044653</td>\n",
              "      <td>56.700321</td>\n",
              "      <td>7.641303</td>\n",
              "      <td>3.451872</td>\n",
              "      <td>13.431754</td>\n",
              "      <td>0.629200</td>\n",
              "      <td>3.887921</td>\n",
              "      <td>4.256052</td>\n",
              "      <td>25.084045</td>\n",
              "    </tr>\n",
              "    <tr>\n",
              "      <th>min</th>\n",
              "      <td>0.110000</td>\n",
              "      <td>5.160000</td>\n",
              "      <td>9.235000</td>\n",
              "      <td>1.000000</td>\n",
              "      <td>55.000000</td>\n",
              "      <td>92.600000</td>\n",
              "      <td>62.600000</td>\n",
              "      <td>149.400000</td>\n",
              "      <td>1.895000</td>\n",
              "      <td>10.300000</td>\n",
              "      <td>15.000000</td>\n",
              "      <td>23.276272</td>\n",
              "    </tr>\n",
              "    <tr>\n",
              "      <th>25%</th>\n",
              "      <td>13.630000</td>\n",
              "      <td>12.527500</td>\n",
              "      <td>18.081250</td>\n",
              "      <td>2.300000</td>\n",
              "      <td>149.500000</td>\n",
              "      <td>103.000000</td>\n",
              "      <td>68.400000</td>\n",
              "      <td>177.575000</td>\n",
              "      <td>2.973000</td>\n",
              "      <td>15.800000</td>\n",
              "      <td>21.000000</td>\n",
              "      <td>60.567577</td>\n",
              "    </tr>\n",
              "    <tr>\n",
              "      <th>50%</th>\n",
              "      <td>27.609000</td>\n",
              "      <td>17.617500</td>\n",
              "      <td>23.099500</td>\n",
              "      <td>3.000000</td>\n",
              "      <td>177.500000</td>\n",
              "      <td>107.000000</td>\n",
              "      <td>70.550000</td>\n",
              "      <td>187.900000</td>\n",
              "      <td>3.355000</td>\n",
              "      <td>17.200000</td>\n",
              "      <td>24.000000</td>\n",
              "      <td>72.160636</td>\n",
              "    </tr>\n",
              "    <tr>\n",
              "      <th>75%</th>\n",
              "      <td>65.905500</td>\n",
              "      <td>18.089731</td>\n",
              "      <td>31.938750</td>\n",
              "      <td>3.575000</td>\n",
              "      <td>215.000000</td>\n",
              "      <td>112.200000</td>\n",
              "      <td>73.425000</td>\n",
              "      <td>196.125000</td>\n",
              "      <td>3.788750</td>\n",
              "      <td>19.575000</td>\n",
              "      <td>26.000000</td>\n",
              "      <td>89.623790</td>\n",
              "    </tr>\n",
              "    <tr>\n",
              "      <th>max</th>\n",
              "      <td>540.561000</td>\n",
              "      <td>67.550000</td>\n",
              "      <td>85.500000</td>\n",
              "      <td>8.000000</td>\n",
              "      <td>450.000000</td>\n",
              "      <td>138.700000</td>\n",
              "      <td>79.900000</td>\n",
              "      <td>224.500000</td>\n",
              "      <td>5.572000</td>\n",
              "      <td>32.000000</td>\n",
              "      <td>45.000000</td>\n",
              "      <td>188.144323</td>\n",
              "    </tr>\n",
              "  </tbody>\n",
              "</table>\n",
              "</div>"
            ],
            "text/plain": [
              "       Sales_in_thousands  ...  Power_perf_factor\n",
              "count          151.000000  ...         156.000000\n",
              "mean            52.051742  ...          77.128857\n",
              "std             68.907116  ...          25.084045\n",
              "min              0.110000  ...          23.276272\n",
              "25%             13.630000  ...          60.567577\n",
              "50%             27.609000  ...          72.160636\n",
              "75%             65.905500  ...          89.623790\n",
              "max            540.561000  ...         188.144323\n",
              "\n",
              "[8 rows x 12 columns]"
            ]
          },
          "metadata": {
            "tags": []
          },
          "execution_count": 3
        }
      ]
    },
    {
      "cell_type": "markdown",
      "metadata": {
        "id": "7hwzZxTJRw05",
        "colab_type": "text"
      },
      "source": [
        "### Q 1. Write a code to understand the total count and percentage of missing values."
      ]
    },
    {
      "cell_type": "code",
      "metadata": {
        "id": "GgLj13c7R95v",
        "colab_type": "code",
        "colab": {
          "base_uri": "https://localhost:8080/",
          "height": 255
        },
        "outputId": "a1720728-66db-47be-d6a6-948fe57d4d28"
      },
      "source": [
        "car.info"
      ],
      "execution_count": 4,
      "outputs": [
        {
          "output_type": "execute_result",
          "data": {
            "text/plain": [
              "<bound method DataFrame.info of     Manufacturer    Model  ...  Latest_Launch  Power_perf_factor\n",
              "0          Acura  Integra  ...       2/2/2012          58.280150\n",
              "1          Acura       TL  ...       6/3/2011          91.370778\n",
              "2          Acura       CL  ...       1/4/2012          90.345000\n",
              "3          Acura       RL  ...      3/10/2011          91.389779\n",
              "4           Audi       A4  ...      10/8/2011          62.777639\n",
              "..           ...      ...  ...            ...                ...\n",
              "151        Volvo      V40  ...      9/21/2011          66.498812\n",
              "152        Volvo      S70  ...     11/24/2012          70.654495\n",
              "153        Volvo      V70  ...      6/25/2011          71.155978\n",
              "154        Volvo      C70  ...      4/26/2011         101.623357\n",
              "155        Volvo      S80  ...     11/14/2011          85.735655\n",
              "\n",
              "[156 rows x 16 columns]>"
            ]
          },
          "metadata": {
            "tags": []
          },
          "execution_count": 4
        }
      ]
    },
    {
      "cell_type": "code",
      "metadata": {
        "id": "UFcoKwuJRw06",
        "colab_type": "code",
        "colab": {
          "base_uri": "https://localhost:8080/",
          "height": 221
        },
        "outputId": "2b66e662-7221-4c36-9fe8-811b50e162d7"
      },
      "source": [
        "def lr():\n",
        "    # Count total missing and sort it \n",
        "    car.isnull()\n",
        "\n",
        "\n",
        "    # Calucalte percent \n",
        "    # concatenate total and percent \n",
        "    # print missing data assigning a varibale\n",
        "    # return using your created variable\n",
        "    return car[car.isnull()]['Manufacturer']#miss\n",
        "lr()"
      ],
      "execution_count": 13,
      "outputs": [
        {
          "output_type": "execute_result",
          "data": {
            "text/plain": [
              "0      NaN\n",
              "1      NaN\n",
              "2      NaN\n",
              "3      NaN\n",
              "4      NaN\n",
              "      ... \n",
              "151    NaN\n",
              "152    NaN\n",
              "153    NaN\n",
              "154    NaN\n",
              "155    NaN\n",
              "Name: Manufacturer, Length: 156, dtype: object"
            ]
          },
          "metadata": {
            "tags": []
          },
          "execution_count": 13
        }
      ]
    },
    {
      "cell_type": "markdown",
      "metadata": {
        "id": "eO1Vq0hpRw09",
        "colab_type": "text"
      },
      "source": [
        "### Q 2. Impute the missing value using \"median\" groupby Manufacturer. "
      ]
    },
    {
      "cell_type": "code",
      "metadata": {
        "id": "dyuTDapkRw0-",
        "colab_type": "code",
        "colab": {}
      },
      "source": [
        "\n",
        "def lr():\n",
        "    # your code here to impute missing value using median and groupby\n",
        "    return\n",
        "lr()\n",
        "print (car.isnull().sum())"
      ],
      "execution_count": 0,
      "outputs": []
    },
    {
      "cell_type": "markdown",
      "metadata": {
        "id": "w97K2ne6Rw1B",
        "colab_type": "text"
      },
      "source": [
        "### Q 3. Create a dummy variable for \"Vehicle_type\"  and  drop the original variable."
      ]
    },
    {
      "cell_type": "code",
      "metadata": {
        "id": "WkpuJkdMRw1C",
        "colab_type": "code",
        "colab": {}
      },
      "source": [
        "car_dummy =pd.DataFrame()                                                           # Creating an empty data frame\n",
        "def lr(car):\n",
        "    # your code to create dummies\n",
        "    return #your created variable\n",
        "car_dummy = lr(car)\n",
        "print(car_dummy)\n"
      ],
      "execution_count": 0,
      "outputs": []
    },
    {
      "cell_type": "markdown",
      "metadata": {
        "id": "HZDBVx7QRw1F",
        "colab_type": "text"
      },
      "source": [
        "### Q 4. Drop the below mentioned variables which will not help in prediction of sales.\n",
        "``` ['Manufacturer', 'Model', 'Latest_Launch'] ```"
      ]
    },
    {
      "cell_type": "code",
      "metadata": {
        "id": "fqITCOzERw1G",
        "colab_type": "code",
        "colab": {}
      },
      "source": [
        "def lr(car_dummy):\n",
        "    # your code to drop the useless variables\n",
        "    return # your created variable\n",
        "car_dummy = lr(car_dummy)\n",
        "print (car_dummy)"
      ],
      "execution_count": 0,
      "outputs": []
    },
    {
      "cell_type": "markdown",
      "metadata": {
        "id": "-k7GO_NORw1J",
        "colab_type": "text"
      },
      "source": [
        "### Check for outliers using Box Plot"
      ]
    },
    {
      "cell_type": "code",
      "metadata": {
        "id": "2_0wnJ62Rw1L",
        "colab_type": "code",
        "colab": {}
      },
      "source": [
        "def lr():\n",
        "    import seaborn as sns\n",
        "    sns.boxplot(data=car_dummy, orient=\"h\", palette=\"Set2\")\n",
        "    return None \n",
        "lr()"
      ],
      "execution_count": 0,
      "outputs": []
    },
    {
      "cell_type": "markdown",
      "metadata": {
        "id": "ZV6Li7b4Rw1O",
        "colab_type": "text"
      },
      "source": [
        "### Q 5. Calculate the Inter quantile range and then drop off outliers for quantile values outside 5 to 95 range."
      ]
    },
    {
      "cell_type": "code",
      "metadata": {
        "id": "Is5zt7xcRw1P",
        "colab_type": "code",
        "colab": {}
      },
      "source": [
        "def lr(car_dummy):\n",
        "    import pandas as pd\n",
        "    # Calculate Q1 value using quantile(0.05)\n",
        "    # Calculate Q3 value using quantile value (0.95)\n",
        "    # Calculate Inter Quartile Range\n",
        "    # create a variable and check for outliers and drop them off\n",
        "    return # your created variable\n",
        "car_dummy = lr(car_dummy)\n",
        "print (car_dummy)"
      ],
      "execution_count": 0,
      "outputs": []
    },
    {
      "cell_type": "markdown",
      "metadata": {
        "id": "dD7vgMNoRw1T",
        "colab_type": "text"
      },
      "source": [
        "### Q 6. Write code to standardize the variable for model building (return value will be numpy.ndarray)."
      ]
    },
    {
      "cell_type": "code",
      "metadata": {
        "id": "D0Q3LzgVRw1U",
        "colab_type": "code",
        "colab": {}
      },
      "source": [
        "std = pd.DataFrame()\n",
        "car_modify = car_dummy.drop(car_dummy[['Sales_in_thousands']], axis=1)\n",
        "def lr(car_modify):\n",
        "    from sklearn.preprocessing import StandardScaler\n",
        "    # code to scale the variables\n",
        "    # code to transform the variables and standardize them\n",
        "    return # your created variable\n",
        "std = lr(car_modify)\n",
        "print(std[1])"
      ],
      "execution_count": 0,
      "outputs": []
    },
    {
      "cell_type": "markdown",
      "metadata": {
        "id": "_rS-RvHFRw1X",
        "colab_type": "text"
      },
      "source": [
        "### Q 7. Write a code to create a DataFrame from the standardized value calculated above"
      ]
    },
    {
      "cell_type": "markdown",
      "metadata": {
        "id": "pthZ1AqCRw1Y",
        "colab_type": "text"
      },
      "source": [
        "### Since the standardized value is a numpy array, add the data to a dataframe with column header as mentioned below in the same order\n",
        "\n",
        "```['_year_resale_value','Price_in_thousands','Engine_size','Horsepower','Wheelbase','Width','Length','Curb_weight','Fuel_capacity','Fuel_efficiency','Power_perf_factor','Vehicle_type_Passenger'] ```"
      ]
    },
    {
      "cell_type": "code",
      "metadata": {
        "id": "XNzWJCgzRw1Y",
        "colab_type": "code",
        "colab": {}
      },
      "source": [
        "columns = ['_year_resale_value','Price_in_thousands','Engine_size','Horsepower','Wheelbase','Width','Length','Curb_weight','Fuel_capacity','Fuel_efficiency','Power_perf_factor','Vehicle_type_Passenger']\n",
        "def lr(std):\n",
        "    # create a dataframe cars for the numpy array\n",
        "    # assign the column headers with the columns mentioned above\n",
        "    return cars\n",
        "cars = lr(std)"
      ],
      "execution_count": 0,
      "outputs": []
    },
    {
      "cell_type": "markdown",
      "metadata": {
        "id": "j9zs5npURw1e",
        "colab_type": "text"
      },
      "source": [
        "### Q 8: Now since all variable may not be of use, please extract only the following variables for training. Preparing X (independent features) for the model building.\n",
        "\n",
        "```['Price_in_thousands','Engine_size','Wheelbase','Fuel_efficiency','Vehicle_type_Passenger']```"
      ]
    },
    {
      "cell_type": "code",
      "metadata": {
        "id": "-07m-f0uRw1f",
        "colab_type": "code",
        "colab": {}
      },
      "source": [
        "X = pd.DataFrame()\n",
        "feature_cols = ['Price_in_thousands','Engine_size','Wheelbase','Fuel_efficiency','Vehicle_type_Passenger']                \n",
        "def lr(cars):\n",
        "    # assign values of fature_cols to X\n",
        "    return X\n",
        "X = lr(cars)\n",
        "print(X)"
      ],
      "execution_count": 0,
      "outputs": []
    },
    {
      "cell_type": "markdown",
      "metadata": {
        "id": "b1VIn4QvRw1i",
        "colab_type": "text"
      },
      "source": [
        "### Check for the type and shape of X."
      ]
    },
    {
      "cell_type": "code",
      "metadata": {
        "id": "bqQbtxm7Rw1j",
        "colab_type": "code",
        "colab": {}
      },
      "source": [
        "def lr():\n",
        "    print(type(X))\n",
        "    print(X.shape)\n",
        "lr()"
      ],
      "execution_count": 0,
      "outputs": []
    },
    {
      "cell_type": "markdown",
      "metadata": {
        "id": "EbOLGdEwRw1n",
        "colab_type": "text"
      },
      "source": [
        "### Q 9. Extract y (dependent variable) for model building.\n",
        "```['Sales_in_thousands']```"
      ]
    },
    {
      "cell_type": "code",
      "metadata": {
        "id": "jxieUHJcRw1o",
        "colab_type": "code",
        "colab": {}
      },
      "source": [
        "y = pd.DataFrame()\n",
        "def lr(car_dummy):\n",
        "    # assign the dependent variable to y dataframe\n",
        "    return #your dataframe\n",
        "y = lr(car_dummy)\n",
        "print(y.head())"
      ],
      "execution_count": 0,
      "outputs": []
    },
    {
      "cell_type": "markdown",
      "metadata": {
        "id": "HTSf2y4kRw1r",
        "colab_type": "text"
      },
      "source": [
        "### Check for the type and shape of y. "
      ]
    },
    {
      "cell_type": "code",
      "metadata": {
        "id": "WttWblkMRw1s",
        "colab_type": "code",
        "colab": {}
      },
      "source": [
        "def lr():\n",
        "    print(type(y))\n",
        "    print(y.shape)\n",
        "lr()"
      ],
      "execution_count": 0,
      "outputs": []
    },
    {
      "cell_type": "markdown",
      "metadata": {
        "id": "ki0eGE0sRw1w",
        "colab_type": "text"
      },
      "source": [
        "<a id=section403></a>"
      ]
    },
    {
      "cell_type": "markdown",
      "metadata": {
        "id": "zQ7YEtE7Rw1y",
        "colab_type": "text"
      },
      "source": [
        "### Q 10. Split the value of X and y into train and test datasets."
      ]
    },
    {
      "cell_type": "code",
      "metadata": {
        "id": "8VQRSCm5Rw11",
        "colab_type": "code",
        "colab": {}
      },
      "source": [
        "from sklearn.cross_validation import train_test_split\n",
        "def lr():\n",
        "    return # train test split using train test split of 70:30 and random state=1\n",
        "X_train, X_test, y_train, y_test = lr()"
      ],
      "execution_count": 0,
      "outputs": []
    },
    {
      "cell_type": "markdown",
      "metadata": {
        "id": "iy1GP_69Rw14",
        "colab_type": "text"
      },
      "source": [
        "### Check the shape of  X and y of train dataset."
      ]
    },
    {
      "cell_type": "code",
      "metadata": {
        "id": "B3jYGsMmRw15",
        "colab_type": "code",
        "colab": {}
      },
      "source": [
        "def lr():\n",
        "    print(X_train.shape)\n",
        "    print(y_train.shape)\n",
        "lr()"
      ],
      "execution_count": 0,
      "outputs": []
    },
    {
      "cell_type": "markdown",
      "metadata": {
        "id": "pdZTVeT1Rw17",
        "colab_type": "text"
      },
      "source": [
        "### Check the shape of X and y of test dataset."
      ]
    },
    {
      "cell_type": "code",
      "metadata": {
        "id": "bMzAt9UaRw18",
        "colab_type": "code",
        "colab": {}
      },
      "source": [
        "def lr():\n",
        "    print(X_test.shape)\n",
        "    print(y_test.shape)\n",
        "lr()"
      ],
      "execution_count": 0,
      "outputs": []
    },
    {
      "cell_type": "markdown",
      "metadata": {
        "id": "AB_urAYNRw1-",
        "colab_type": "text"
      },
      "source": [
        "<a id=section404></a>"
      ]
    },
    {
      "cell_type": "markdown",
      "metadata": {
        "id": "D0FlE04tRw2A",
        "colab_type": "text"
      },
      "source": [
        "### Q 11. Instantiate Linear regression model using scikit-learn"
      ]
    },
    {
      "cell_type": "code",
      "metadata": {
        "id": "FZObqNlJRw2B",
        "colab_type": "code",
        "colab": {}
      },
      "source": [
        "from sklearn.linear_model import LinearRegression\n",
        "def lr():\n",
        "    #initiate the linear regression model to new variable linreg\n",
        "    return linreg\n",
        "linreg = lr()"
      ],
      "execution_count": 0,
      "outputs": []
    },
    {
      "cell_type": "markdown",
      "metadata": {
        "id": "ZxGgV43mRw2D",
        "colab_type": "text"
      },
      "source": [
        "### Q12. Fit the linear model on X_train and y_train."
      ]
    },
    {
      "cell_type": "code",
      "metadata": {
        "id": "QWsUN25iRw2E",
        "colab_type": "code",
        "colab": {}
      },
      "source": [
        "def lr():\n",
        "    # fit the X_train and y_train\n",
        "    # We don't expect any return from your side.\n",
        "lr()"
      ],
      "execution_count": 0,
      "outputs": []
    },
    {
      "cell_type": "markdown",
      "metadata": {
        "id": "AQ0owfiuRw2H",
        "colab_type": "text"
      },
      "source": [
        "<a id=section405></a>"
      ]
    },
    {
      "cell_type": "markdown",
      "metadata": {
        "id": "hnKCxm7-Rw2I",
        "colab_type": "text"
      },
      "source": [
        "### Q 13. Interpret the Model Coefficients."
      ]
    },
    {
      "cell_type": "code",
      "metadata": {
        "id": "-Lwy0z5TRw2J",
        "colab_type": "code",
        "colab": {}
      },
      "source": [
        "def lr():\n",
        "    # print the linreg.intercet\n",
        "    # print the linreg.coefficient\n",
        "lr()"
      ],
      "execution_count": 0,
      "outputs": []
    },
    {
      "cell_type": "markdown",
      "metadata": {
        "id": "oAh_37MjRw2M",
        "colab_type": "text"
      },
      "source": [
        "### Q.14 Zip the features to pair the feature names with the coefficients."
      ]
    },
    {
      "cell_type": "code",
      "metadata": {
        "id": "sZQo9SA7Rw2N",
        "colab_type": "code",
        "colab": {}
      },
      "source": [
        "def lr():\n",
        "    # insert Intercept variable with the feature_cols\n",
        "    # make a list using linreg.coef\n",
        "    # insert the intercept value respectively\n",
        "    # creating a variable to zip feature_cols and their coef.\n",
        "    # use for loop the get the value of feature_cols and their coef\n",
        "        # print the above values\n",
        "lr()"
      ],
      "execution_count": 0,
      "outputs": []
    },
    {
      "cell_type": "markdown",
      "metadata": {
        "id": "MFooWT3MRw2Q",
        "colab_type": "text"
      },
      "source": [
        "###  Q 15. Predict the train value using the built model."
      ]
    },
    {
      "cell_type": "code",
      "metadata": {
        "id": "mEAK0iZQRw2R",
        "colab_type": "code",
        "colab": {}
      },
      "source": [
        "y_pred_train = linreg.predict(X_train)\n",
        "pred= pd.DataFrame(y_pred_train)\n",
        "def lr():  \n",
        "    # provide column header as sales for pred\n",
        "    # check for head \n",
        "    return head\n",
        "lr()"
      ],
      "execution_count": 0,
      "outputs": []
    },
    {
      "cell_type": "markdown",
      "metadata": {
        "id": "tcJUCSXfRw2V",
        "colab_type": "text"
      },
      "source": [
        "### Q 16. Predict the test value using the built model."
      ]
    },
    {
      "cell_type": "code",
      "metadata": {
        "id": "arEwoEPfRw2V",
        "colab_type": "code",
        "colab": {}
      },
      "source": [
        "y_pred_test = linreg.predict(X_test)    \n",
        "pred_test= pd.DataFrame(y_pred_test)\n",
        "def lr():\n",
        "    # provide column header as sales for pred\n",
        "    # check for head \n",
        "    return head\n",
        "lr()"
      ],
      "execution_count": 0,
      "outputs": []
    },
    {
      "cell_type": "markdown",
      "metadata": {
        "id": "8NIMrjgkRw2X",
        "colab_type": "text"
      },
      "source": [
        "<a id=section406></a>"
      ]
    },
    {
      "cell_type": "markdown",
      "metadata": {
        "id": "TM5XQRDFRw2Y",
        "colab_type": "text"
      },
      "source": [
        "### Q 17 Evaluate the model using Mean Absolute Error metrics for both train and test."
      ]
    },
    {
      "cell_type": "code",
      "metadata": {
        "id": "r6qyU3VFRw2Z",
        "colab_type": "code",
        "colab": {}
      },
      "source": [
        "from sklearn import metrics\n",
        "def lr():\n",
        "    # Calculate MAE for train \n",
        "    # Calculate MAE for test \n",
        "    # print MAE for train\n",
        "    # print MAE for test\n",
        "lr()"
      ],
      "execution_count": 0,
      "outputs": []
    },
    {
      "cell_type": "markdown",
      "metadata": {
        "id": "1WA3jJC7Rw2b",
        "colab_type": "text"
      },
      "source": [
        "### Q 18 Evaluate the model using Mean Squared Error for both train and test."
      ]
    },
    {
      "cell_type": "code",
      "metadata": {
        "id": "7umyT36eRw2c",
        "colab_type": "code",
        "colab": {}
      },
      "source": [
        "def lr():\n",
        "    # Calculate MSE for train \n",
        "    # Calculate MSE for test \n",
        "    # print MSE for train\n",
        "    # print MSE for test\n",
        "lr()"
      ],
      "execution_count": 0,
      "outputs": []
    },
    {
      "cell_type": "markdown",
      "metadata": {
        "id": "p7saoftKRw2e",
        "colab_type": "text"
      },
      "source": [
        "### Q 19 Evaluate the model using Root Mean Squared Error for both train and test."
      ]
    },
    {
      "cell_type": "code",
      "metadata": {
        "id": "eTiphpa_Rw2f",
        "colab_type": "code",
        "colab": {}
      },
      "source": [
        "import numpy as np\n",
        "def lr():\n",
        "    # Calculate RMSE for train \n",
        "    # Calculate RMSE for test \n",
        "    # print RMSE for train\n",
        "    # print RMSE for test\n",
        "lr()"
      ],
      "execution_count": 0,
      "outputs": []
    },
    {
      "cell_type": "markdown",
      "metadata": {
        "id": "hLt-VNfdRw2i",
        "colab_type": "text"
      },
      "source": [
        "### Q 20. Evaluate the model using R-square value for both train and test."
      ]
    },
    {
      "cell_type": "code",
      "metadata": {
        "id": "TgTdPsJ9Rw2j",
        "colab_type": "code",
        "colab": {}
      },
      "source": [
        "from sklearn.metrics import r2_score\n",
        "def lr():\n",
        "    # Calculate r2 for train \n",
        "    # Calculate r2 for test \n",
        "    # print r2 for train\n",
        "    # print r2 for test\n",
        "lr()"
      ],
      "execution_count": 0,
      "outputs": []
    }
  ]
}